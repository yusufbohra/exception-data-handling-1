{
 "cells": [
  {
   "cell_type": "code",
   "execution_count": 1,
   "id": "1c9a0d5e-728b-4081-99d8-41d8fb87733e",
   "metadata": {},
   "outputs": [
    {
     "data": {
      "text/plain": [
       "'difference\\nexception errors:-\\n1.Exceptions are runtime errors that occur during the execution of a program.\\n2.They are caused by various factors such as invalid user input, file not found, division by zero, etc.\\n\\nsyntax error:-\\n1.Syntax errors occur when the Python interpreter encounters invalid code that does not conform to the language syntax rules.\\n2.These errors are detected by the Python interpreter during the parsing phase before the program is executed.'"
      ]
     },
     "execution_count": 1,
     "metadata": {},
     "output_type": "execute_result"
    }
   ],
   "source": [
    "#que1\n",
    "\"\"\"An exception in Python is an error that occurs during the execution of a program, leading to the disruption of the normal flow of the program.\"\"\"\n",
    "\n",
    "\"\"\"difference\n",
    "exception errors:-\n",
    "1.Exceptions are runtime errors that occur during the execution of a program.\n",
    "2.They are caused by various factors such as invalid user input, file not found, division by zero, etc.\n",
    "\n",
    "syntax error:-\n",
    "1.Syntax errors occur when the Python interpreter encounters invalid code that does not conform to the language syntax rules.\n",
    "2.These errors are detected by the Python interpreter during the parsing phase before the program is executed.\"\"\""
   ]
  },
  {
   "cell_type": "code",
   "execution_count": 2,
   "id": "44fc0b7c-f1e9-411d-983f-6348773ab6f4",
   "metadata": {},
   "outputs": [
    {
     "data": {
      "text/plain": [
       "'\"def divide_numbers(a, b):\\n    result = a / b\\n    return result\\n\\n# Example 1: Division by Zero\\nresult = divide_numbers(10, 0)\\nprint(result)\\n'"
      ]
     },
     "execution_count": 2,
     "metadata": {},
     "output_type": "execute_result"
    }
   ],
   "source": [
    "#que2\n",
    "#When an exception is not handled in Python, it leads to the termination of the program and an error message called a traceback is displayed.\n",
    "\n",
    "#example\n",
    "\"\"\"\"def divide_numbers(a, b):\n",
    "    result = a / b\n",
    "    return result\n",
    "\n",
    "# Example 1: Division by Zero\n",
    "result = divide_numbers(10, 0)\n",
    "print(result)\n",
    "\"\"\""
   ]
  },
  {
   "cell_type": "code",
   "execution_count": 3,
   "id": "46e0bfb2-1286-49c3-afc7-8dea154ed2d5",
   "metadata": {},
   "outputs": [
    {
     "name": "stdout",
     "output_type": "stream",
     "text": [
      "Error: Division by zero is not allowed!\n",
      "None\n"
     ]
    }
   ],
   "source": [
    "#que3\n",
    "#In Python, the try-except statements are used to handle exceptions. The try block contains the code that might raise an exception, and the except block specifies how to handle specific exceptions that occur within the try block.\n",
    "\n",
    "#Example\n",
    "def divide_numbers(a, b):\n",
    "    try:\n",
    "        result = a / b\n",
    "        return result\n",
    "    except ZeroDivisionError:\n",
    "        print(\"Error: Division by zero is not allowed!\")\n",
    "\n",
    "# Example 1: Division by Zero\n",
    "result = divide_numbers(10, 0)\n",
    "print(result)\n"
   ]
  },
  {
   "cell_type": "code",
   "execution_count": 4,
   "id": "a85a163c-9b67-4dc6-9bcc-6b62f1346ea1",
   "metadata": {},
   "outputs": [
    {
     "name": "stdout",
     "output_type": "stream",
     "text": [
      "The division is: 5.0\n",
      "Finally block executed.\n"
     ]
    }
   ],
   "source": [
    "#que4\n",
    "def divide_numbers(a, b):\n",
    "    try:\n",
    "        result = a / b\n",
    "    except ZeroDivisionError:\n",
    "        print(\"Error: Division by zero is not allowed!\")\n",
    "    else:\n",
    "        print(\"The division is:\", result)\n",
    "    finally:\n",
    "        print(\"Finally block executed.\")\n",
    "\n",
    "# Example: Division of Numbers\n",
    "divide_numbers(10, 2)\n"
   ]
  },
  {
   "cell_type": "code",
   "execution_count": 5,
   "id": "abd32877-d9d4-43d6-ab24-c93f3b4c3afa",
   "metadata": {},
   "outputs": [
    {
     "name": "stdout",
     "output_type": "stream",
     "text": [
      "Error: Insufficient balance to withdraw.\n"
     ]
    }
   ],
   "source": [
    "#que5\n",
    "#Custom exceptions in Python are user-defined exception classes that inherit from the base Exception class or its subclasses.\n",
    "#uses\n",
    "\"\"\"Specific Error Handling: By defining custom exceptions, you can handle specific errors that are relevant to your application. This allows you to differentiate between various types of errors and provide more meaningful error messages or specific error handling logic.\n",
    "\n",
    "Code Readability and Maintainability: Custom exceptions enhance the readability and maintainability of your code. By using self-explanatory exception names, you make it easier for others (including yourself) to understand the code and handle exceptions appropriately.\n",
    "\n",
    "Application-Specific Logic: Custom exceptions enable you to encapsulate application-specific logic within the exception classes. This can include additional attributes or methods that provide contextual information or assist in error handling.\"\"\"\n",
    "\n",
    "\n",
    "#example\n",
    "class InsufficientBalanceError(Exception):\n",
    "    def __init__(self, message):\n",
    "        self.message = message\n",
    "\n",
    "    def __str__(self):\n",
    "        return self.message\n",
    "\n",
    "\n",
    "def withdraw(balance, amount):\n",
    "    if amount > balance:\n",
    "        raise InsufficientBalanceError(\"Insufficient balance to withdraw.\")\n",
    "    else:\n",
    "        print(\"Withdrawal successful.\")\n",
    "\n",
    "\n",
    "# Example: Withdrawal\n",
    "balance = 1000\n",
    "withdraw_amount = 1500\n",
    "\n",
    "try:\n",
    "    withdraw(balance, withdraw_amount)\n",
    "except InsufficientBalanceError as e:\n",
    "    print(\"Error:\", e)\n"
   ]
  },
  {
   "cell_type": "code",
   "execution_count": 7,
   "id": "14a4b18e-6c7a-4add-95a0-65c7f924837f",
   "metadata": {},
   "outputs": [],
   "source": [
    "#que6\n",
    "class InvalidInputError(Exception):\n",
    "    def __init__(self, message):\n",
    "        self.message = message\n",
    "\n",
    "    def __str__(self):\n",
    "        return self.message\n",
    "def process_input(value):\n",
    "    try:\n",
    "        if not isinstance(value, int):\n",
    "            raise InvalidInputError(\"Invalid input: expected an integer.\")\n",
    "        else:\n",
    "            print(\"Processing input:\", value)\n",
    "    except InvalidInputError as e:\n",
    "        print(\"Error:\", e)\n",
    "    process_input(\"abc\")\n",
    "\n"
   ]
  },
  {
   "cell_type": "code",
   "execution_count": null,
   "id": "46c41fae-acbb-4181-a45d-c268c0825db9",
   "metadata": {},
   "outputs": [],
   "source": []
  }
 ],
 "metadata": {
  "kernelspec": {
   "display_name": "Python 3 (ipykernel)",
   "language": "python",
   "name": "python3"
  },
  "language_info": {
   "codemirror_mode": {
    "name": "ipython",
    "version": 3
   },
   "file_extension": ".py",
   "mimetype": "text/x-python",
   "name": "python",
   "nbconvert_exporter": "python",
   "pygments_lexer": "ipython3",
   "version": "3.10.8"
  }
 },
 "nbformat": 4,
 "nbformat_minor": 5
}
